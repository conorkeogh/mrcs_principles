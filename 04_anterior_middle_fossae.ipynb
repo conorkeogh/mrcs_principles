{
 "cells": [
  {
   "cell_type": "markdown",
   "id": "14c861ef-6a8e-4063-a43d-3c08be39caf7",
   "metadata": {},
   "source": [
    "# Anterior and middle cranial fossae\n",
    "Principles of skull base anatomy"
   ]
  },
  {
   "cell_type": "markdown",
   "id": "27065f21-9d15-4e7b-a1f9-21840eb9698b",
   "metadata": {},
   "source": [
    "## Introduction\n",
    "Learning goals etc."
   ]
  },
  {
   "cell_type": "markdown",
   "id": "6afe60a2-0b63-4ec0-a24c-a80d6125aeee",
   "metadata": {},
   "source": [
    "## Anterior fossa osteology\n",
    "Arrangement of anterior fossa"
   ]
  },
  {
   "cell_type": "markdown",
   "id": "528e2d9a-e1a0-40ca-b81a-2bcaf1177668",
   "metadata": {},
   "source": [
    "## Olfactory nerve\n",
    "Basics of CNI"
   ]
  },
  {
   "cell_type": "markdown",
   "id": "8caed49d-dedc-44d0-9754-212030e29adc",
   "metadata": {},
   "source": [
    "## Middle cranial fossa osteology\n",
    "Arrangement of middle fossa"
   ]
  },
  {
   "cell_type": "markdown",
   "id": "0e0ff092-c1d9-4471-86e9-f56e7d2baf84",
   "metadata": {},
   "source": [
    "## Optic canal and optic nerve\n",
    "Basic anatomy of optic nerve and course"
   ]
  },
  {
   "cell_type": "markdown",
   "id": "f8867a92-4745-4e0a-af4e-a7f5a39d87bb",
   "metadata": {},
   "source": [
    "## Superior orbital fissure and associated nerves\n",
    "Structures of SOF"
   ]
  },
  {
   "cell_type": "markdown",
   "id": "2a398eb5-3fd5-4065-95c0-57f801e4ec77",
   "metadata": {},
   "source": [
    "## Foramen rotundum and maxillary nerve\n",
    "Course of V2"
   ]
  },
  {
   "cell_type": "markdown",
   "id": "e99dd56b-54a4-4047-8047-a687f1b23b03",
   "metadata": {},
   "source": [
    "## Foramen ovale and mandibular nerve\n",
    "Course of V3"
   ]
  },
  {
   "cell_type": "markdown",
   "id": "351071b1-ac5a-4855-aab3-16388aa84052",
   "metadata": {},
   "source": [
    "## Infratemporal and subtemporal fossae\n",
    "Structure of inferior skull base"
   ]
  },
  {
   "cell_type": "markdown",
   "id": "b7a6e00a-c945-449d-8842-37e36470bb63",
   "metadata": {},
   "source": [
    "## Foramen lacerum and cavernous sinus\n",
    "ICA & structures in cavernous sinus"
   ]
  },
  {
   "cell_type": "code",
   "execution_count": null,
   "id": "4cbd5e46-a2fa-45cb-a212-7b6a850be305",
   "metadata": {},
   "outputs": [],
   "source": []
  }
 ],
 "metadata": {
  "kernelspec": {
   "display_name": "mrcs",
   "language": "python",
   "name": "mrcs"
  },
  "language_info": {
   "codemirror_mode": {
    "name": "ipython",
    "version": 3
   },
   "file_extension": ".py",
   "mimetype": "text/x-python",
   "name": "python",
   "nbconvert_exporter": "python",
   "pygments_lexer": "ipython3",
   "version": "3.9.7"
  }
 },
 "nbformat": 4,
 "nbformat_minor": 5
}
