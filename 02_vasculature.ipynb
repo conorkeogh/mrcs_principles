{
 "cells": [
  {
   "cell_type": "markdown",
   "id": "c9e97951-86d8-47ac-8816-ba0f2c400a34",
   "metadata": {},
   "source": [
    "# Neurovascular anatomy and stroke\n",
    "Principles of arterial supply and clinical implications"
   ]
  },
  {
   "cell_type": "markdown",
   "id": "35eefeee-f6d5-4e2b-ad4d-01a357719943",
   "metadata": {},
   "source": [
    "## Introduction\n",
    "Learning goals etc."
   ]
  },
  {
   "cell_type": "markdown",
   "id": "8491713d-9b3e-4197-9177-e7c6b06b2f53",
   "metadata": {},
   "source": [
    "## The carotid artery\n",
    "Course of the carotid in general"
   ]
  },
  {
   "cell_type": "markdown",
   "id": "b651d3d3-9da5-476a-b430-e29eb80da1ae",
   "metadata": {},
   "source": [
    "## ECA: course & branches\n",
    "Overview of ECA"
   ]
  },
  {
   "cell_type": "markdown",
   "id": "5f95be62-3301-4a81-8791-845eb121bd69",
   "metadata": {},
   "source": [
    "## ICA: course & branches\n",
    "More detailed course of ICA & its branches"
   ]
  },
  {
   "cell_type": "markdown",
   "id": "aba023fa-7b84-4bf3-bc5c-a7b0fe647e5b",
   "metadata": {},
   "source": [
    "## ACA, AComm & branches\n",
    "Territory & pathologies of ACA"
   ]
  },
  {
   "cell_type": "markdown",
   "id": "97e687d1-3826-4361-9875-ff8a56dfb704",
   "metadata": {},
   "source": [
    "## MCA & branches\n",
    "Territory & pathologies of MCA"
   ]
  },
  {
   "cell_type": "markdown",
   "id": "ef0058c3-ca6f-44fc-aaf2-da08030ad93e",
   "metadata": {},
   "source": [
    "## The vertebral artery\n",
    "Course of the vertebral in general"
   ]
  },
  {
   "cell_type": "markdown",
   "id": "85eaf327-98f9-4515-bb1b-f1f4fa78fa9a",
   "metadata": {},
   "source": [
    "## Posterior circulation\n",
    "Branches, territory & pathologies of the vertebral & basilar"
   ]
  },
  {
   "cell_type": "markdown",
   "id": "f69a4d9c-dafd-485f-900b-72a97615e5ef",
   "metadata": {},
   "source": [
    "## Stroke syndromes\n",
    "Details on specific stroke syndromes, incl. brainstem strokes (cortical vs. subcortical vs. brainstem)"
   ]
  },
  {
   "cell_type": "code",
   "execution_count": null,
   "id": "21564bcf-16b5-4a47-8b50-0e2d0d9d1c12",
   "metadata": {},
   "outputs": [],
   "source": []
  }
 ],
 "metadata": {
  "kernelspec": {
   "display_name": "mrcs",
   "language": "python",
   "name": "mrcs"
  },
  "language_info": {
   "codemirror_mode": {
    "name": "ipython",
    "version": 3
   },
   "file_extension": ".py",
   "mimetype": "text/x-python",
   "name": "python",
   "nbconvert_exporter": "python",
   "pygments_lexer": "ipython3",
   "version": "3.9.7"
  }
 },
 "nbformat": 4,
 "nbformat_minor": 5
}
