{
 "cells": [
  {
   "cell_type": "markdown",
   "id": "6e24b803-130d-47a4-bd10-af0898d87d1a",
   "metadata": {},
   "source": [
    "# Posterior cranial fossa and cerebellum\n",
    "Principles of skull base anatomy"
   ]
  },
  {
   "cell_type": "markdown",
   "id": "fe89ecf5-2226-4a49-b4c1-d710e748635c",
   "metadata": {},
   "source": [
    "## Introduction\n",
    "Learning goals etc."
   ]
  },
  {
   "cell_type": "markdown",
   "id": "c766ddb6-f4a6-4ce0-b9b7-bb4a7d847784",
   "metadata": {},
   "source": [
    "## Posterior fossa osteology\n",
    "Arrangement of posterior fossa"
   ]
  },
  {
   "cell_type": "markdown",
   "id": "352db4e6-482c-4dcf-a97c-0de4baedcb67",
   "metadata": {},
   "source": [
    "## Internal acoustic meatus and associated nerves\n",
    "CNVII & VIII"
   ]
  },
  {
   "cell_type": "markdown",
   "id": "8a4f13d2-1d11-4d5c-b2fd-32ab9d0d5972",
   "metadata": {},
   "source": [
    "## The facial nerve\n",
    "Course & branches of facial nerve"
   ]
  },
  {
   "cell_type": "markdown",
   "id": "ac7059ff-db11-4953-abbe-cfad0b9f2404",
   "metadata": {},
   "source": [
    "## Jugular foramen and associated nerves\n",
    "Structure of jugular foramen and course of nerves"
   ]
  },
  {
   "cell_type": "markdown",
   "id": "baf8e28c-f3c1-4d74-aff1-b7e75710a76c",
   "metadata": {},
   "source": [
    "## Hypoglossal canal and nerve\n",
    "Course of CNXII"
   ]
  },
  {
   "cell_type": "markdown",
   "id": "7356a08f-85c7-4075-a3f1-4abeb3908fc5",
   "metadata": {},
   "source": [
    "## Foramen magnum\n",
    "Strucure of foramen magnum and CVJ"
   ]
  },
  {
   "cell_type": "markdown",
   "id": "e39a888a-e57e-4055-be49-5801291e1e67",
   "metadata": {},
   "source": [
    "## Cerebellar anatomy\n",
    "Overview of cerebellar structures (?deep nuclei)"
   ]
  },
  {
   "cell_type": "code",
   "execution_count": null,
   "id": "c702e01a-973b-48bc-91d4-15b86ff02972",
   "metadata": {},
   "outputs": [],
   "source": []
  }
 ],
 "metadata": {
  "kernelspec": {
   "display_name": "mrcs",
   "language": "python",
   "name": "mrcs"
  },
  "language_info": {
   "codemirror_mode": {
    "name": "ipython",
    "version": 3
   },
   "file_extension": ".py",
   "mimetype": "text/x-python",
   "name": "python",
   "nbconvert_exporter": "python",
   "pygments_lexer": "ipython3",
   "version": "3.9.7"
  }
 },
 "nbformat": 4,
 "nbformat_minor": 5
}