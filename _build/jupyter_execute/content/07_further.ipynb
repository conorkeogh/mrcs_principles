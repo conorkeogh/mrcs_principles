{
 "cells": [
  {
   "cell_type": "markdown",
   "id": "11878a11-0967-4740-8d2a-323b68291b7a",
   "metadata": {},
   "source": [
    "# Suggested resources\n",
    "Going beyond the basics\n",
    "\n",
    "## Additional resources\n",
    "Suggestions for further resources"
   ]
  }
 ],
 "metadata": {
  "kernelspec": {
   "display_name": "mrcs",
   "language": "python",
   "name": "mrcs"
  },
  "language_info": {
   "codemirror_mode": {
    "name": "ipython",
    "version": 3
   },
   "file_extension": ".py",
   "mimetype": "text/x-python",
   "name": "python",
   "nbconvert_exporter": "python",
   "pygments_lexer": "ipython3",
   "version": "3.9.7"
  }
 },
 "nbformat": 4,
 "nbformat_minor": 5
}