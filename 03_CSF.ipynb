{
 "cells": [
  {
   "cell_type": "markdown",
   "id": "7fcd10d5-efce-4780-8596-27f7ab52977c",
   "metadata": {},
   "source": [
    "# Cerebrospinal fluid circulation & venous sinuses\n",
    "Principles of CSF & drainage"
   ]
  },
  {
   "cell_type": "markdown",
   "id": "34536c52-22a5-4cb4-b6e0-c5e4361d90f9",
   "metadata": {},
   "source": [
    "## Introduction\n",
    "Learning goals etc."
   ]
  },
  {
   "cell_type": "markdown",
   "id": "7763969c-0dce-4c06-9eff-512199571182",
   "metadata": {},
   "source": [
    "## Cerebrospinal fluid circulation\n",
    "Overview of production & drainage"
   ]
  },
  {
   "cell_type": "markdown",
   "id": "987b6c1c-a41e-4d9f-8f0c-afe46fa78b38",
   "metadata": {},
   "source": [
    "## Ventricular anatomy\n",
    "Overview of ventricles & circulation of CSF"
   ]
  },
  {
   "cell_type": "markdown",
   "id": "cf9c044c-e46c-4ab9-bca8-95d6031a5c26",
   "metadata": {},
   "source": [
    "## Cisternal anatomy\n",
    "High-level overview of CSF cisterns"
   ]
  },
  {
   "cell_type": "markdown",
   "id": "6f1ca452-12f3-425f-ab0a-d0bea58bca00",
   "metadata": {},
   "source": [
    "## Intracranial pressure\n",
    "ICP, regulation & management (incl herniation syndromes)"
   ]
  },
  {
   "cell_type": "markdown",
   "id": "d0b393ef-4f2f-4185-81d1-90e3e6f88c00",
   "metadata": {},
   "source": [
    "## Venous sinuses\n",
    "Overview of venous sinus anatomy & drainage"
   ]
  },
  {
   "cell_type": "code",
   "execution_count": null,
   "id": "6ddaef0f-1922-4576-914e-6101160f5b9a",
   "metadata": {},
   "outputs": [],
   "source": []
  }
 ],
 "metadata": {
  "kernelspec": {
   "display_name": "mrcs",
   "language": "python",
   "name": "mrcs"
  },
  "language_info": {
   "codemirror_mode": {
    "name": "ipython",
    "version": 3
   },
   "file_extension": ".py",
   "mimetype": "text/x-python",
   "name": "python",
   "nbconvert_exporter": "python",
   "pygments_lexer": "ipython3",
   "version": "3.9.7"
  }
 },
 "nbformat": 4,
 "nbformat_minor": 5
}
