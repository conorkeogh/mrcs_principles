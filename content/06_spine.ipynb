{
 "cells": [
  {
   "cell_type": "markdown",
   "id": "794bd936-f9ce-4a27-b1c6-48ded239153c",
   "metadata": {},
   "source": [
    "# Spinal anatomy and spinal cord injury\n",
    "Principles of spinal anatomy"
   ]
  },
  {
   "cell_type": "markdown",
   "id": "6f3c83e7-adcd-4d5d-83ea-1494599f66c2",
   "metadata": {},
   "source": [
    "## Introduction\n",
    "Learning goals etc."
   ]
  },
  {
   "cell_type": "markdown",
   "id": "826413ce-d6fc-495a-8551-22e87a6fb45a",
   "metadata": {},
   "source": [
    "## Spinal osteology: general\n",
    "General structure of spine & vertebrae"
   ]
  },
  {
   "cell_type": "markdown",
   "id": "017cf166-fc8e-4cf2-a393-30dcf9fbd22a",
   "metadata": {},
   "source": [
    "## Spinal osteology: ligaments\n",
    "Spinal ligaments overview"
   ]
  },
  {
   "cell_type": "markdown",
   "id": "6e64fd3e-1960-4a4a-8278-6b1ab00e8903",
   "metadata": {},
   "source": [
    "## Spinal osteology: specific vertebrae\n",
    "Different vertebral classes and individual vertebrae"
   ]
  },
  {
   "cell_type": "markdown",
   "id": "c66636a7-03cc-4fb8-af47-52540babd71b",
   "metadata": {},
   "source": [
    "## Spinal cord structure\n",
    "Major spinal pathways "
   ]
  },
  {
   "cell_type": "markdown",
   "id": "c6c23a14-5ad4-4cfa-8801-d430384cb839",
   "metadata": {},
   "source": [
    "## Exiting nerve roots and foraminae\n",
    "Formation of peripheral nerves, incl compressive neuropathies etc."
   ]
  },
  {
   "cell_type": "markdown",
   "id": "9ae18148-50a3-46a0-a3c5-0cd3d74b64e4",
   "metadata": {},
   "source": [
    "## Spinal cord vasculature\n",
    "Arterial supply & venous drainage"
   ]
  },
  {
   "cell_type": "markdown",
   "id": "1d077d53-b0ad-4dca-9520-a236d2747656",
   "metadata": {},
   "source": [
    "## Vertebral fractures\n",
    "Fracture types"
   ]
  },
  {
   "cell_type": "markdown",
   "id": "298e8313-5f50-46fb-9630-854f52d024f8",
   "metadata": {},
   "source": [
    "## Spinal cord syndromes\n",
    "Specific cord syndromes"
   ]
  },
  {
   "cell_type": "code",
   "execution_count": null,
   "id": "985dfd4c-be1b-4675-9487-4052546591b4",
   "metadata": {},
   "outputs": [],
   "source": []
  }
 ],
 "metadata": {
  "kernelspec": {
   "display_name": "mrcs",
   "language": "python",
   "name": "mrcs"
  },
  "language_info": {
   "codemirror_mode": {
    "name": "ipython",
    "version": 3
   },
   "file_extension": ".py",
   "mimetype": "text/x-python",
   "name": "python",
   "nbconvert_exporter": "python",
   "pygments_lexer": "ipython3",
   "version": "3.9.7"
  }
 },
 "nbformat": 4,
 "nbformat_minor": 5
}
