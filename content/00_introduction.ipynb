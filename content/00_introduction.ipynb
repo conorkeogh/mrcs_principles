{
 "cells": [
  {
   "cell_type": "markdown",
   "id": "aa645fe4-8e7d-43cb-a83c-bbb7485d975e",
   "metadata": {},
   "source": [
    "# Principles of neurosurgical science\n",
    "Revision notes for the MRCS examination"
   ]
  },
  {
   "cell_type": "markdown",
   "id": "365cded8-2a8c-4f6e-a128-03922e8cf9ea",
   "metadata": {},
   "source": [
    "## Introduction\n",
    "Brief introduction\n",
    "\n",
    ":::{note}\n",
    "An attempt at a note\n",
    ":::"
   ]
  },
  {
   "cell_type": "markdown",
   "id": "55f038ee-fbe4-45c4-9e28-59a7b83fbcad",
   "metadata": {
    "jp-MarkdownHeadingCollapsed": true,
    "tags": []
   },
   "source": [
    "## Structure\n",
    "- A list\n",
    "    - Hi\n",
    "- Of modules\n",
    "- And also learning goals"
   ]
  },
  {
   "cell_type": "markdown",
   "id": "508053fc-4643-4110-8398-3920a197d61c",
   "metadata": {},
   "source": [
    "## Download\n",
    "Details re downloading as PDF & rights etc."
   ]
  },
  {
   "cell_type": "markdown",
   "id": "28932dd1-9ce6-4c1b-9134-7d9ea6eb6d7b",
   "metadata": {},
   "source": [
    "## Contact\n",
    "Contact details"
   ]
  },
  {
   "cell_type": "code",
   "execution_count": null,
   "id": "b1520430-f3fc-43a8-9f81-197ec506e323",
   "metadata": {},
   "outputs": [],
   "source": []
  }
 ],
 "metadata": {
  "kernelspec": {
   "display_name": "mrcs",
   "language": "python",
   "name": "mrcs"
  },
  "language_info": {
   "codemirror_mode": {
    "name": "ipython",
    "version": 3
   },
   "file_extension": ".py",
   "mimetype": "text/x-python",
   "name": "python",
   "nbconvert_exporter": "python",
   "pygments_lexer": "ipython3",
   "version": "3.9.7"
  }
 },
 "nbformat": 4,
 "nbformat_minor": 5
}
