{
 "cells": [
  {
   "cell_type": "markdown",
   "id": "38212397-178c-4b67-b517-f3cfb0e138f3",
   "metadata": {},
   "source": [
    "# Organisation of the nervous system\n",
    "Principles of neuroanatomy"
   ]
  },
  {
   "cell_type": "markdown",
   "id": "942540e9-6314-4cd0-8ec4-46bd06b5dfcd",
   "metadata": {},
   "source": [
    "## Introduction\n",
    "Learning goals etc."
   ]
  },
  {
   "cell_type": "markdown",
   "id": "117b6e71-1187-40bd-856d-251f5ab65f62",
   "metadata": {},
   "source": [
    "## Osteology\n",
    "Osteology of the face & skull, basic spine"
   ]
  },
  {
   "cell_type": "markdown",
   "id": "76277bb8-6124-4e92-be69-054f6296b5f3",
   "metadata": {},
   "source": [
    "## Meninges\n",
    "Overview of meningeal coverings"
   ]
  },
  {
   "cell_type": "markdown",
   "id": "7102ee7e-785d-4a94-981d-4036b784f41a",
   "metadata": {},
   "source": [
    "## Vascular supply & drainage\n",
    "Overview of vasculature - more details in specific chapter"
   ]
  },
  {
   "cell_type": "markdown",
   "id": "2e62488f-0beb-4ff4-bf8a-c6e56ec86b8b",
   "metadata": {},
   "source": [
    "## Cortical anatomy\n",
    "Core anatomy: lobes, sulci, gyri, medial structures"
   ]
  },
  {
   "cell_type": "markdown",
   "id": "bd3dee5b-d2d3-4e8c-a523-0e803daca1d0",
   "metadata": {},
   "source": [
    "## Subcortical anatomy\n",
    "Basal ganglia etc."
   ]
  },
  {
   "cell_type": "markdown",
   "id": "a8c54b2c-bde8-4159-8f03-03572cb0483d",
   "metadata": {},
   "source": [
    "## White matter pathways\n",
    "Organisation of major white matter tracts"
   ]
  },
  {
   "cell_type": "markdown",
   "id": "3de852a6-be94-4040-9565-96f58b3b85e7",
   "metadata": {},
   "source": [
    "## Pituitary & hypothalamus\n",
    "Overview of endocrine organs etc."
   ]
  },
  {
   "cell_type": "markdown",
   "id": "b4939f95-a11a-4823-89ec-04c120ad7e2f",
   "metadata": {},
   "source": [
    "## Cerebellum\n",
    "High-level cerebellum; more details in specific chapter"
   ]
  },
  {
   "cell_type": "markdown",
   "id": "6f9620db-ab76-4b39-935e-7ca474fb7423",
   "metadata": {},
   "source": [
    "## Brainstem\n",
    "Overview of brainstem anatomy"
   ]
  },
  {
   "cell_type": "code",
   "execution_count": null,
   "id": "0bcf0604-3abf-450b-b376-b770186b0c99",
   "metadata": {},
   "outputs": [],
   "source": []
  }
 ],
 "metadata": {
  "kernelspec": {
   "display_name": "mrcs",
   "language": "python",
   "name": "mrcs"
  },
  "language_info": {
   "codemirror_mode": {
    "name": "ipython",
    "version": 3
   },
   "file_extension": ".py",
   "mimetype": "text/x-python",
   "name": "python",
   "nbconvert_exporter": "python",
   "pygments_lexer": "ipython3",
   "version": "3.9.7"
  }
 },
 "nbformat": 4,
 "nbformat_minor": 5
}
