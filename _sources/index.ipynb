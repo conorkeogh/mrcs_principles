{
 "cells": [
  {
   "cell_type": "markdown",
   "id": "5b67dd2e-c2ec-486d-87c1-dfb88eac80c7",
   "metadata": {},
   "source": [
    "# Principles of neurosurgical science\n",
    "Revision notes for the MRCS examination"
   ]
  },
  {
   "cell_type": "markdown",
   "id": "a7bb665c-b52c-43e8-b7f9-ff6e06cf3eb4",
   "metadata": {},
   "source": [
    "## Introduction\n",
    "Details, etc."
   ]
  }
 ],
 "metadata": {
  "kernelspec": {
   "display_name": "mrcs",
   "language": "python",
   "name": "mrcs"
  },
  "language_info": {
   "codemirror_mode": {
    "name": "ipython",
    "version": 3
   },
   "file_extension": ".py",
   "mimetype": "text/x-python",
   "name": "python",
   "nbconvert_exporter": "python",
   "pygments_lexer": "ipython3",
   "version": "3.9.7"
  }
 },
 "nbformat": 4,
 "nbformat_minor": 5
}
